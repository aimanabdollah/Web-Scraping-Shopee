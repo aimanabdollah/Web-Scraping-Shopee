{
  "nbformat": 4,
  "nbformat_minor": 0,
  "metadata": {
    "colab": {
      "name": "G19_Group_Project_ETL.ipynb",
      "provenance": []
    },
    "kernelspec": {
      "name": "python3",
      "display_name": "Python 3"
    },
    "language_info": {
      "name": "python"
    }
  },
  "cells": [
    {
      "cell_type": "markdown",
      "source": [
        "# **Group Project - ETL (Extract, Transform, Load)**"
      ],
      "metadata": {
        "id": "I9VeIwyTe6d6"
      }
    },
    {
      "cell_type": "markdown",
      "source": [
        "### **Group:** 19\n",
        "### **Business Need:** Best Selling Mobile Phones in Shopee\n",
        "### **Group Members:** \n",
        "### 1. Muhammad Aiman bin Abdollah (A175054) <br>\n",
        "### 2. Nurin Aisyah Najwa binti Abdul Hamzan (A173478)  <br>\n",
        "### 3. Nur Hafeezah binti Mohammad Helmee (A177019)<br>\n",
        "### 4. Nik Nur Liyana binti Nik Muhamed (A176924) <br>\n"
      ],
      "metadata": {
        "id": "PPO9AWYyeAwv"
      }
    },
    {
      "cell_type": "markdown",
      "source": [
        "# **Phase 1 - Extract**"
      ],
      "metadata": {
        "id": "cJK0fVuioXBd"
      }
    },
    {
      "cell_type": "code",
      "source": [
        "# install selenium webdriver\n",
        "\n",
        "!pip install selenium\n",
        "!apt-get update\n",
        "!apt install chromium-chromedriver\n",
        "!cp /usr/lib/chromium-browser/chromedriver /usr/bin\n",
        "import sys\n",
        "sys.path.insert(0,'/usr/lib/chromium-browser/chromedriver')"
      ],
      "metadata": {
        "colab": {
          "base_uri": "https://localhost:8080/"
        },
        "id": "zXqtz4kjMxJ_",
        "outputId": "cd3fe77c-ece1-4a9b-9bfb-0d3d34e792b6"
      },
      "execution_count": 29,
      "outputs": [
        {
          "output_type": "stream",
          "name": "stdout",
          "text": [
            "Requirement already satisfied: selenium in /usr/local/lib/python3.7/dist-packages (4.1.0)\n",
            "Requirement already satisfied: urllib3[secure]~=1.26 in /usr/local/lib/python3.7/dist-packages (from selenium) (1.26.8)\n",
            "Requirement already satisfied: trio~=0.17 in /usr/local/lib/python3.7/dist-packages (from selenium) (0.19.0)\n",
            "Requirement already satisfied: trio-websocket~=0.9 in /usr/local/lib/python3.7/dist-packages (from selenium) (0.9.2)\n",
            "Requirement already satisfied: async-generator>=1.9 in /usr/local/lib/python3.7/dist-packages (from trio~=0.17->selenium) (1.10)\n",
            "Requirement already satisfied: sniffio in /usr/local/lib/python3.7/dist-packages (from trio~=0.17->selenium) (1.2.0)\n",
            "Requirement already satisfied: sortedcontainers in /usr/local/lib/python3.7/dist-packages (from trio~=0.17->selenium) (2.4.0)\n",
            "Requirement already satisfied: outcome in /usr/local/lib/python3.7/dist-packages (from trio~=0.17->selenium) (1.1.0)\n",
            "Requirement already satisfied: idna in /usr/local/lib/python3.7/dist-packages (from trio~=0.17->selenium) (2.10)\n",
            "Requirement already satisfied: attrs>=19.2.0 in /usr/local/lib/python3.7/dist-packages (from trio~=0.17->selenium) (21.4.0)\n",
            "Requirement already satisfied: wsproto>=0.14 in /usr/local/lib/python3.7/dist-packages (from trio-websocket~=0.9->selenium) (1.0.0)\n",
            "Requirement already satisfied: cryptography>=1.3.4 in /usr/local/lib/python3.7/dist-packages (from urllib3[secure]~=1.26->selenium) (36.0.1)\n",
            "Requirement already satisfied: pyOpenSSL>=0.14 in /usr/local/lib/python3.7/dist-packages (from urllib3[secure]~=1.26->selenium) (21.0.0)\n",
            "Requirement already satisfied: certifi in /usr/local/lib/python3.7/dist-packages (from urllib3[secure]~=1.26->selenium) (2021.10.8)\n",
            "Requirement already satisfied: cffi>=1.12 in /usr/local/lib/python3.7/dist-packages (from cryptography>=1.3.4->urllib3[secure]~=1.26->selenium) (1.15.0)\n",
            "Requirement already satisfied: pycparser in /usr/local/lib/python3.7/dist-packages (from cffi>=1.12->cryptography>=1.3.4->urllib3[secure]~=1.26->selenium) (2.21)\n",
            "Requirement already satisfied: six>=1.5.2 in /usr/local/lib/python3.7/dist-packages (from pyOpenSSL>=0.14->urllib3[secure]~=1.26->selenium) (1.15.0)\n",
            "Requirement already satisfied: h11<1,>=0.9.0 in /usr/local/lib/python3.7/dist-packages (from wsproto>=0.14->trio-websocket~=0.9->selenium) (0.13.0)\n",
            "Requirement already satisfied: typing-extensions in /usr/local/lib/python3.7/dist-packages (from h11<1,>=0.9.0->wsproto>=0.14->trio-websocket~=0.9->selenium) (3.10.0.2)\n",
            "Hit:1 https://cloud.r-project.org/bin/linux/ubuntu bionic-cran40/ InRelease\n",
            "Ign:2 https://developer.download.nvidia.com/compute/cuda/repos/ubuntu1804/x86_64  InRelease\n",
            "Hit:3 http://security.ubuntu.com/ubuntu bionic-security InRelease\n",
            "Ign:4 https://developer.download.nvidia.com/compute/machine-learning/repos/ubuntu1804/x86_64  InRelease\n",
            "Hit:5 https://developer.download.nvidia.com/compute/cuda/repos/ubuntu1804/x86_64  Release\n",
            "Hit:6 https://developer.download.nvidia.com/compute/machine-learning/repos/ubuntu1804/x86_64  Release\n",
            "Hit:7 http://ppa.launchpad.net/c2d4u.team/c2d4u4.0+/ubuntu bionic InRelease\n",
            "Hit:8 http://archive.ubuntu.com/ubuntu bionic InRelease\n",
            "Hit:10 http://ppa.launchpad.net/cran/libgit2/ubuntu bionic InRelease\n",
            "Hit:11 http://archive.ubuntu.com/ubuntu bionic-updates InRelease\n",
            "Hit:13 http://archive.ubuntu.com/ubuntu bionic-backports InRelease\n",
            "Hit:14 http://ppa.launchpad.net/deadsnakes/ppa/ubuntu bionic InRelease\n",
            "Hit:15 http://ppa.launchpad.net/graphics-drivers/ppa/ubuntu bionic InRelease\n",
            "Reading package lists... Done\n",
            "Reading package lists... Done\n",
            "Building dependency tree       \n",
            "Reading state information... Done\n",
            "chromium-chromedriver is already the newest version (97.0.4692.71-0ubuntu0.18.04.1).\n",
            "0 upgraded, 0 newly installed, 0 to remove and 58 not upgraded.\n",
            "cp: '/usr/lib/chromium-browser/chromedriver' and '/usr/bin/chromedriver' are the same file\n"
          ]
        }
      ]
    },
    {
      "cell_type": "code",
      "source": [
        "# import beautifulsoap and selenium\n",
        "\n",
        "from bs4 import BeautifulSoup\n",
        "from selenium import webdriver\n",
        "from selenium.webdriver.chrome.options import Options\n",
        "from selenium.webdriver.support.ui import WebDriverWait\n",
        "from selenium.common.exceptions import TimeoutException\n",
        "from time import sleep"
      ],
      "metadata": {
        "id": "pW8xbMHcMxGa"
      },
      "execution_count": 30,
      "outputs": []
    },
    {
      "cell_type": "code",
      "source": [
        "# create object for chrome options\n",
        "chrome_options = Options()\n",
        "base_url = 'https://shopee.com.my'\n",
        "path = ['/qqmarketing990?originalCategoryId=100073&page=0&pdpL3Category=0&sortBy=pop', '/qqmarketing990?originalCategoryId=100073&page=1&pdpL3Category=0&sortBy=pop',\n",
        "        '/qqmarketing990?originalCategoryId=100073&page=2&pdpL3Category=0&sortBy=pop', '/qqmarketing990?originalCategoryId=100073&page=3&pdpL3Category=0&sortBy=pop']\n",
        "\n",
        "# set chrome driver options to disable any popup's from the website\n",
        "# to find local path for chrome profile, open chrome browser\n",
        "# and in the address bar type, \"chrome://version\"\n",
        "chrome_options.add_argument('--headless')\n",
        "chrome_options.add_argument('disable-notifications')\n",
        "chrome_options.add_argument('start-maximized')\n",
        "chrome_options.add_argument('--no-sandbox')\n",
        "chrome_options.add_argument('--disable-dev-shm-usage')\n",
        "\n",
        "# to disable the message, \"Chrome is being controlled by automated test software\"\n",
        "chrome_options.add_argument(\"disable-infobars\")\n",
        "\n",
        "# pass the argument 1 to allow and 2 to block\n",
        "chrome_options.add_experimental_option(\"prefs\", { \n",
        "    \"profile.default_content_setting_values.notifications\": 2\n",
        "    })\n",
        "\n",
        "# invoke the webdriver\n",
        "browser = webdriver.Chrome('chromedriver',chrome_options=chrome_options)"
      ],
      "metadata": {
        "colab": {
          "base_uri": "https://localhost:8080/"
        },
        "id": "FdpU_glzMxEH",
        "outputId": "f69b70b4-993c-416b-8950-4f6305e1ed63"
      },
      "execution_count": 31,
      "outputs": [
        {
          "output_type": "stream",
          "name": "stderr",
          "text": [
            "/usr/local/lib/python3.7/dist-packages/ipykernel_launcher.py:25: DeprecationWarning: use options instead of chrome_options\n"
          ]
        }
      ]
    },
    {
      "cell_type": "code",
      "source": [
        "# declare empty lists to store url\n",
        "item_link =[]\n",
        "page_count = 1\n",
        "\n",
        "for page in path:\n",
        "\n",
        "  browser.get(base_url+page)\n",
        "  delay = 5 #seconds\n",
        "\n",
        "  while True:\n",
        "      try:\n",
        "          WebDriverWait(browser, delay)\n",
        "          print('Page {} is ready'.format(page_count)) #debug\n",
        "          page_count += 1\n",
        "          sleep(5)\n",
        "          html = browser.execute_script(\"return document.getElementsByTagName('html')[0].innerHTML\")\n",
        "          soup = BeautifulSoup(html, \"html.parser\")\n",
        "\n",
        "          # find the class that store product\n",
        "          product_item= soup.find_all('div', class_='shop-search-result-view__item col-xs-2-4')\n",
        "          #scrap each product in product_item\n",
        "          for item in product_item:\n",
        "            link = item.find('a').get('href')\n",
        "            item_link.append(base_url+link)\n",
        "        \n",
        "          break # it will break from the loop once the specific element will be present. \n",
        "      except TimeoutException:\n",
        "          print (\"Loading took too much time!-Try again\")"
      ],
      "metadata": {
        "colab": {
          "base_uri": "https://localhost:8080/"
        },
        "id": "kRJXdwtYMxBy",
        "outputId": "dfe8ac3c-c456-43a3-ede8-cfaffa78e297"
      },
      "execution_count": 32,
      "outputs": [
        {
          "output_type": "stream",
          "name": "stdout",
          "text": [
            "Page 1 is ready\n",
            "Page 2 is ready\n",
            "Page 3 is ready\n",
            "Page 4 is ready\n"
          ]
        }
      ]
    },
    {
      "cell_type": "code",
      "source": [
        "len(item_link)"
      ],
      "metadata": {
        "colab": {
          "base_uri": "https://localhost:8080/"
        },
        "id": "1pCK0hBnMw_g",
        "outputId": "c39e5aa4-6b52-4766-f054-8f6227e259c6"
      },
      "execution_count": 33,
      "outputs": [
        {
          "output_type": "execute_result",
          "data": {
            "text/plain": [
              "120"
            ]
          },
          "metadata": {},
          "execution_count": 33
        }
      ]
    },
    {
      "cell_type": "code",
      "source": [
        "all_product= []\n",
        "item_count=1\n",
        "\n",
        "for link in item_link:\n",
        "\n",
        "  browser.get(link)\n",
        "  delay = 5 #secods\n",
        "\n",
        "  while True:\n",
        "      try:\n",
        "          WebDriverWait(browser, delay)\n",
        "          sleep(5)\n",
        "          html = browser.execute_script(\"return document.getElementsByTagName('html')[0].innerHTML\")\n",
        "          #print(html)\n",
        "          soup = BeautifulSoup(html, \"html.parser\")\n",
        "\n",
        "          # list to temporary store product details\n",
        "          product_details = []\n",
        "          \n",
        "          # attribute: product name\n",
        "          item_n = soup.find('div', class_=\"_3g8My-\")\n",
        "          name = item_n.find('span')\n",
        "          product_details.append(name.text)\n",
        "          \n",
        "          #attribute: price\n",
        "          price = soup.find('div', class_=\"_2v0Hgx\")\n",
        "          product_details.append(price.text)\n",
        "\n",
        "          #attribute: product brand\n",
        "          item_shop_b = soup.find_all('span', class_=\"_1w3mKA\")[2]\n",
        "          product_details.append(item_shop_b.text)\n",
        "            \n",
        "          #attribute: number of product sold\n",
        "          sold = soup.find('div', class_=\"_3b2Btx\")\n",
        "          product_details.append(sold.text)\n",
        "          \n",
        "          # attribute: number of product favorite\n",
        "          item_f = soup.find('div', class_=\"flex items-center _3oXgUo\")\n",
        "          favorite = item_f.find('div', class_='Rs4O3p')\n",
        "          if favorite:\n",
        "            product_details.append(favorite.text)\n",
        "          else:\n",
        "            product_details.append(0)\n",
        "\n",
        "          #attribute: rating & number of rating \n",
        "          #there are from same class name.\n",
        "          for rating in soup.find_all('div', class_=\"_3uBhVI\"):\n",
        "            product_details.append(rating.text)\n",
        "          \n",
        "          #store product details in all_product list\n",
        "          all_product.append(product_details)\n",
        "          print('Item {} is ready'.format(item_count)) # debug\n",
        "          item_count += 1\n",
        "\n",
        "          break # it will break from the loop once the specific element will be present. \n",
        "      except TimeoutException:\n",
        "          print (\"Loading took too much time!-Try again\")"
      ],
      "metadata": {
        "colab": {
          "base_uri": "https://localhost:8080/"
        },
        "id": "QFAyN3XZNH--",
        "outputId": "0c6a6f93-d5a9-4f17-fb7e-a98a5bd82300"
      },
      "execution_count": 34,
      "outputs": [
        {
          "output_type": "stream",
          "name": "stdout",
          "text": [
            "Item 1 is ready\n",
            "Item 2 is ready\n",
            "Item 3 is ready\n",
            "Item 4 is ready\n",
            "Item 5 is ready\n",
            "Item 6 is ready\n",
            "Item 7 is ready\n",
            "Item 8 is ready\n",
            "Item 9 is ready\n",
            "Item 10 is ready\n",
            "Item 11 is ready\n",
            "Item 12 is ready\n",
            "Item 13 is ready\n",
            "Item 14 is ready\n",
            "Item 15 is ready\n",
            "Item 16 is ready\n",
            "Item 17 is ready\n",
            "Item 18 is ready\n",
            "Item 19 is ready\n",
            "Item 20 is ready\n",
            "Item 21 is ready\n",
            "Item 22 is ready\n",
            "Item 23 is ready\n",
            "Item 24 is ready\n",
            "Item 25 is ready\n",
            "Item 26 is ready\n",
            "Item 27 is ready\n",
            "Item 28 is ready\n",
            "Item 29 is ready\n",
            "Item 30 is ready\n",
            "Item 31 is ready\n",
            "Item 32 is ready\n",
            "Item 33 is ready\n",
            "Item 34 is ready\n",
            "Item 35 is ready\n",
            "Item 36 is ready\n",
            "Item 37 is ready\n",
            "Item 38 is ready\n",
            "Item 39 is ready\n",
            "Item 40 is ready\n",
            "Item 41 is ready\n",
            "Item 42 is ready\n",
            "Item 43 is ready\n",
            "Item 44 is ready\n",
            "Item 45 is ready\n",
            "Item 46 is ready\n",
            "Item 47 is ready\n",
            "Item 48 is ready\n",
            "Item 49 is ready\n",
            "Item 50 is ready\n",
            "Item 51 is ready\n",
            "Item 52 is ready\n",
            "Item 53 is ready\n",
            "Item 54 is ready\n",
            "Item 55 is ready\n",
            "Item 56 is ready\n",
            "Item 57 is ready\n",
            "Item 58 is ready\n",
            "Item 59 is ready\n",
            "Item 60 is ready\n",
            "Item 61 is ready\n",
            "Item 62 is ready\n",
            "Item 63 is ready\n",
            "Item 64 is ready\n",
            "Item 65 is ready\n",
            "Item 66 is ready\n",
            "Item 67 is ready\n",
            "Item 68 is ready\n",
            "Item 69 is ready\n",
            "Item 70 is ready\n",
            "Item 71 is ready\n",
            "Item 72 is ready\n",
            "Item 73 is ready\n",
            "Item 74 is ready\n",
            "Item 75 is ready\n",
            "Item 76 is ready\n",
            "Item 77 is ready\n",
            "Item 78 is ready\n",
            "Item 79 is ready\n",
            "Item 80 is ready\n",
            "Item 81 is ready\n",
            "Item 82 is ready\n",
            "Item 83 is ready\n",
            "Item 84 is ready\n",
            "Item 85 is ready\n",
            "Item 86 is ready\n",
            "Item 87 is ready\n",
            "Item 88 is ready\n",
            "Item 89 is ready\n",
            "Item 90 is ready\n",
            "Item 91 is ready\n",
            "Item 92 is ready\n",
            "Item 93 is ready\n",
            "Item 94 is ready\n",
            "Item 95 is ready\n",
            "Item 96 is ready\n",
            "Item 97 is ready\n",
            "Item 98 is ready\n",
            "Item 99 is ready\n",
            "Item 100 is ready\n",
            "Item 101 is ready\n",
            "Item 102 is ready\n",
            "Item 103 is ready\n",
            "Item 104 is ready\n",
            "Item 105 is ready\n",
            "Item 106 is ready\n",
            "Item 107 is ready\n",
            "Item 108 is ready\n",
            "Item 109 is ready\n",
            "Item 110 is ready\n",
            "Item 111 is ready\n",
            "Item 112 is ready\n",
            "Item 113 is ready\n",
            "Item 114 is ready\n",
            "Item 115 is ready\n",
            "Item 116 is ready\n",
            "Item 117 is ready\n",
            "Item 118 is ready\n",
            "Item 119 is ready\n",
            "Item 120 is ready\n"
          ]
        }
      ]
    },
    {
      "cell_type": "code",
      "source": [
        "all_product[0]"
      ],
      "metadata": {
        "colab": {
          "base_uri": "https://localhost:8080/"
        },
        "id": "gDBmHrlyNH7d",
        "outputId": "c46bec61-30a8-4db3-e5c8-ce6b7f2ad3d6"
      },
      "execution_count": 35,
      "outputs": [
        {
          "output_type": "execute_result",
          "data": {
            "text/plain": [
              "['(FREE SHIPPING) SAMSUNG S20 PRO (8GB+512GB) MOBILE PHONE',\n",
              " 'RM186.12 - RM205.92',\n",
              " 'Samsung',\n",
              " '466',\n",
              " 'Favorite (328)',\n",
              " '3.9',\n",
              " '23']"
            ]
          },
          "metadata": {},
          "execution_count": 35
        }
      ]
    },
    {
      "cell_type": "code",
      "source": [
        "# close the automated browser\n",
        "browser.close()"
      ],
      "metadata": {
        "id": "URtSOeV4NH4o"
      },
      "execution_count": 36,
      "outputs": []
    },
    {
      "cell_type": "code",
      "source": [
        "import pandas as pd\n",
        "\n",
        "df = pd.DataFrame(data=all_product, columns=['product_name', 'product_price', 'brand', 'num_sold', 'num_fav', 'product_rating', 'num_rating'])               \n",
        "df.head(120)"
      ],
      "metadata": {
        "colab": {
          "base_uri": "https://localhost:8080/",
          "height": 423
        },
        "id": "dvOyqBo7NH2V",
        "outputId": "1e3b0bfe-b88c-4f58-83e9-e272e1766664"
      },
      "execution_count": 37,
      "outputs": [
        {
          "output_type": "execute_result",
          "data": {
            "text/html": [
              "\n",
              "  <div id=\"df-d60832b4-7550-4b4c-b6a0-f1322f88447e\">\n",
              "    <div class=\"colab-df-container\">\n",
              "      <div>\n",
              "<style scoped>\n",
              "    .dataframe tbody tr th:only-of-type {\n",
              "        vertical-align: middle;\n",
              "    }\n",
              "\n",
              "    .dataframe tbody tr th {\n",
              "        vertical-align: top;\n",
              "    }\n",
              "\n",
              "    .dataframe thead th {\n",
              "        text-align: right;\n",
              "    }\n",
              "</style>\n",
              "<table border=\"1\" class=\"dataframe\">\n",
              "  <thead>\n",
              "    <tr style=\"text-align: right;\">\n",
              "      <th></th>\n",
              "      <th>product_name</th>\n",
              "      <th>product_price</th>\n",
              "      <th>brand</th>\n",
              "      <th>num_sold</th>\n",
              "      <th>num_fav</th>\n",
              "      <th>product_rating</th>\n",
              "      <th>num_rating</th>\n",
              "    </tr>\n",
              "  </thead>\n",
              "  <tbody>\n",
              "    <tr>\n",
              "      <th>0</th>\n",
              "      <td>(FREE SHIPPING) SAMSUNG S20 PRO (8GB+512GB) MO...</td>\n",
              "      <td>RM186.12 - RM205.92</td>\n",
              "      <td>Samsung</td>\n",
              "      <td>466</td>\n",
              "      <td>Favorite (328)</td>\n",
              "      <td>3.9</td>\n",
              "      <td>23</td>\n",
              "    </tr>\n",
              "    <tr>\n",
              "      <th>1</th>\n",
              "      <td>[CLEARANCE STOCK] VIVO Y50 8GB/512GB ANDROID S...</td>\n",
              "      <td>RM186.12 - RM205.92</td>\n",
              "      <td>Vivo</td>\n",
              "      <td>7</td>\n",
              "      <td>Favorite (9)</td>\n",
              "      <td>5.0</td>\n",
              "      <td>2</td>\n",
              "    </tr>\n",
              "    <tr>\n",
              "      <th>2</th>\n",
              "      <td>[CLEARANCE STOCK] OPPO RENO 4 PRO 12GB RAM+512...</td>\n",
              "      <td>RM238.00 - RM253.00</td>\n",
              "      <td>OPPO</td>\n",
              "      <td>6</td>\n",
              "      <td>Favorite (7)</td>\n",
              "      <td>3.5</td>\n",
              "      <td>4</td>\n",
              "    </tr>\n",
              "    <tr>\n",
              "      <th>3</th>\n",
              "      <td>[CLEARANCE STOCK] SAMSUNG GALAXY S21+ 5G 12GB ...</td>\n",
              "      <td>RM223.00</td>\n",
              "      <td>Other Brands</td>\n",
              "      <td>3</td>\n",
              "      <td>Favorite (4)</td>\n",
              "      <td>5.0</td>\n",
              "      <td>1</td>\n",
              "    </tr>\n",
              "    <tr>\n",
              "      <th>4</th>\n",
              "      <td>[CLEARANCE STOCK] VIVO Y19 (8GB/512GB) IMPORT SET</td>\n",
              "      <td>RM188.00 - RM208.00</td>\n",
              "      <td>Vivo</td>\n",
              "      <td>3</td>\n",
              "      <td>Favorite (10)</td>\n",
              "      <td>3.0</td>\n",
              "      <td>1</td>\n",
              "    </tr>\n",
              "    <tr>\n",
              "      <th>...</th>\n",
              "      <td>...</td>\n",
              "      <td>...</td>\n",
              "      <td>...</td>\n",
              "      <td>...</td>\n",
              "      <td>...</td>\n",
              "      <td>...</td>\n",
              "      <td>...</td>\n",
              "    </tr>\n",
              "    <tr>\n",
              "      <th>115</th>\n",
              "      <td>[CLEARANCE STOCK] HUAWEI P30 PRO 8GB RAM 512GB...</td>\n",
              "      <td>RM188.00 - RM208.00</td>\n",
              "      <td>Huawei</td>\n",
              "      <td>0</td>\n",
              "      <td>0</td>\n",
              "      <td>None</td>\n",
              "      <td>None</td>\n",
              "    </tr>\n",
              "    <tr>\n",
              "      <th>116</th>\n",
              "      <td>[CLEARANCE STOCK] Redmi 6A Dual SIM Dual Stand...</td>\n",
              "      <td>RM197.00</td>\n",
              "      <td>Other Brands</td>\n",
              "      <td>0</td>\n",
              "      <td>0</td>\n",
              "      <td>None</td>\n",
              "      <td>None</td>\n",
              "    </tr>\n",
              "    <tr>\n",
              "      <th>117</th>\n",
              "      <td>[CLEARANCE STOCK] ORIGINAL NOKIA 150 DUAL SIM ...</td>\n",
              "      <td>RM159.00</td>\n",
              "      <td>Nokia</td>\n",
              "      <td>0</td>\n",
              "      <td>0</td>\n",
              "      <td>None</td>\n",
              "      <td>None</td>\n",
              "    </tr>\n",
              "    <tr>\n",
              "      <th>118</th>\n",
              "      <td>[CLEARANCE STOCK] Oppo A53 4G 2gb+16gb Origina...</td>\n",
              "      <td>RM189.00</td>\n",
              "      <td>OPPO</td>\n",
              "      <td>0</td>\n",
              "      <td>0</td>\n",
              "      <td>None</td>\n",
              "      <td>None</td>\n",
              "    </tr>\n",
              "    <tr>\n",
              "      <th>119</th>\n",
              "      <td>[CLEARANCE STOCK] Oppo A37 4G 2gb+16gb Origina...</td>\n",
              "      <td>RM179.00</td>\n",
              "      <td>OPPO</td>\n",
              "      <td>0</td>\n",
              "      <td>0</td>\n",
              "      <td>None</td>\n",
              "      <td>None</td>\n",
              "    </tr>\n",
              "  </tbody>\n",
              "</table>\n",
              "<p>120 rows × 7 columns</p>\n",
              "</div>\n",
              "      <button class=\"colab-df-convert\" onclick=\"convertToInteractive('df-d60832b4-7550-4b4c-b6a0-f1322f88447e')\"\n",
              "              title=\"Convert this dataframe to an interactive table.\"\n",
              "              style=\"display:none;\">\n",
              "        \n",
              "  <svg xmlns=\"http://www.w3.org/2000/svg\" height=\"24px\"viewBox=\"0 0 24 24\"\n",
              "       width=\"24px\">\n",
              "    <path d=\"M0 0h24v24H0V0z\" fill=\"none\"/>\n",
              "    <path d=\"M18.56 5.44l.94 2.06.94-2.06 2.06-.94-2.06-.94-.94-2.06-.94 2.06-2.06.94zm-11 1L8.5 8.5l.94-2.06 2.06-.94-2.06-.94L8.5 2.5l-.94 2.06-2.06.94zm10 10l.94 2.06.94-2.06 2.06-.94-2.06-.94-.94-2.06-.94 2.06-2.06.94z\"/><path d=\"M17.41 7.96l-1.37-1.37c-.4-.4-.92-.59-1.43-.59-.52 0-1.04.2-1.43.59L10.3 9.45l-7.72 7.72c-.78.78-.78 2.05 0 2.83L4 21.41c.39.39.9.59 1.41.59.51 0 1.02-.2 1.41-.59l7.78-7.78 2.81-2.81c.8-.78.8-2.07 0-2.86zM5.41 20L4 18.59l7.72-7.72 1.47 1.35L5.41 20z\"/>\n",
              "  </svg>\n",
              "      </button>\n",
              "      \n",
              "  <style>\n",
              "    .colab-df-container {\n",
              "      display:flex;\n",
              "      flex-wrap:wrap;\n",
              "      gap: 12px;\n",
              "    }\n",
              "\n",
              "    .colab-df-convert {\n",
              "      background-color: #E8F0FE;\n",
              "      border: none;\n",
              "      border-radius: 50%;\n",
              "      cursor: pointer;\n",
              "      display: none;\n",
              "      fill: #1967D2;\n",
              "      height: 32px;\n",
              "      padding: 0 0 0 0;\n",
              "      width: 32px;\n",
              "    }\n",
              "\n",
              "    .colab-df-convert:hover {\n",
              "      background-color: #E2EBFA;\n",
              "      box-shadow: 0px 1px 2px rgba(60, 64, 67, 0.3), 0px 1px 3px 1px rgba(60, 64, 67, 0.15);\n",
              "      fill: #174EA6;\n",
              "    }\n",
              "\n",
              "    [theme=dark] .colab-df-convert {\n",
              "      background-color: #3B4455;\n",
              "      fill: #D2E3FC;\n",
              "    }\n",
              "\n",
              "    [theme=dark] .colab-df-convert:hover {\n",
              "      background-color: #434B5C;\n",
              "      box-shadow: 0px 1px 3px 1px rgba(0, 0, 0, 0.15);\n",
              "      filter: drop-shadow(0px 1px 2px rgba(0, 0, 0, 0.3));\n",
              "      fill: #FFFFFF;\n",
              "    }\n",
              "  </style>\n",
              "\n",
              "      <script>\n",
              "        const buttonEl =\n",
              "          document.querySelector('#df-d60832b4-7550-4b4c-b6a0-f1322f88447e button.colab-df-convert');\n",
              "        buttonEl.style.display =\n",
              "          google.colab.kernel.accessAllowed ? 'block' : 'none';\n",
              "\n",
              "        async function convertToInteractive(key) {\n",
              "          const element = document.querySelector('#df-d60832b4-7550-4b4c-b6a0-f1322f88447e');\n",
              "          const dataTable =\n",
              "            await google.colab.kernel.invokeFunction('convertToInteractive',\n",
              "                                                     [key], {});\n",
              "          if (!dataTable) return;\n",
              "\n",
              "          const docLinkHtml = 'Like what you see? Visit the ' +\n",
              "            '<a target=\"_blank\" href=https://colab.research.google.com/notebooks/data_table.ipynb>data table notebook</a>'\n",
              "            + ' to learn more about interactive tables.';\n",
              "          element.innerHTML = '';\n",
              "          dataTable['output_type'] = 'display_data';\n",
              "          await google.colab.output.renderOutput(dataTable, element);\n",
              "          const docLink = document.createElement('div');\n",
              "          docLink.innerHTML = docLinkHtml;\n",
              "          element.appendChild(docLink);\n",
              "        }\n",
              "      </script>\n",
              "    </div>\n",
              "  </div>\n",
              "  "
            ],
            "text/plain": [
              "                                          product_name  ... num_rating\n",
              "0    (FREE SHIPPING) SAMSUNG S20 PRO (8GB+512GB) MO...  ...         23\n",
              "1    [CLEARANCE STOCK] VIVO Y50 8GB/512GB ANDROID S...  ...          2\n",
              "2    [CLEARANCE STOCK] OPPO RENO 4 PRO 12GB RAM+512...  ...          4\n",
              "3    [CLEARANCE STOCK] SAMSUNG GALAXY S21+ 5G 12GB ...  ...          1\n",
              "4    [CLEARANCE STOCK] VIVO Y19 (8GB/512GB) IMPORT SET  ...          1\n",
              "..                                                 ...  ...        ...\n",
              "115  [CLEARANCE STOCK] HUAWEI P30 PRO 8GB RAM 512GB...  ...       None\n",
              "116  [CLEARANCE STOCK] Redmi 6A Dual SIM Dual Stand...  ...       None\n",
              "117  [CLEARANCE STOCK] ORIGINAL NOKIA 150 DUAL SIM ...  ...       None\n",
              "118  [CLEARANCE STOCK] Oppo A53 4G 2gb+16gb Origina...  ...       None\n",
              "119  [CLEARANCE STOCK] Oppo A37 4G 2gb+16gb Origina...  ...       None\n",
              "\n",
              "[120 rows x 7 columns]"
            ]
          },
          "metadata": {},
          "execution_count": 37
        }
      ]
    },
    {
      "cell_type": "markdown",
      "source": [
        "# **Phase 2 - Transform**"
      ],
      "metadata": {
        "id": "ZEVfpGNDL_SA"
      }
    },
    {
      "cell_type": "markdown",
      "source": [
        "# **a. Data Cleaning / Data Transformation**"
      ],
      "metadata": {
        "id": "rKUHR5wLGCDJ"
      }
    },
    {
      "cell_type": "code",
      "source": [
        "df.info()"
      ],
      "metadata": {
        "colab": {
          "base_uri": "https://localhost:8080/"
        },
        "id": "X9LN3nuMQc0N",
        "outputId": "77340cf6-723e-4806-c0f3-ade71f0ac7e0"
      },
      "execution_count": 39,
      "outputs": [
        {
          "output_type": "stream",
          "name": "stdout",
          "text": [
            "<class 'pandas.core.frame.DataFrame'>\n",
            "RangeIndex: 120 entries, 0 to 119\n",
            "Data columns (total 7 columns):\n",
            " #   Column          Non-Null Count  Dtype \n",
            "---  ------          --------------  ----- \n",
            " 0   product_name    120 non-null    object\n",
            " 1   product_price   120 non-null    object\n",
            " 2   brand           120 non-null    object\n",
            " 3   num_sold        120 non-null    object\n",
            " 4   num_fav         120 non-null    object\n",
            " 5   product_rating  13 non-null     object\n",
            " 6   num_rating      13 non-null     object\n",
            "dtypes: object(7)\n",
            "memory usage: 6.7+ KB\n"
          ]
        }
      ]
    },
    {
      "cell_type": "markdown",
      "source": [
        "### **1. Remove Irrelevant Word in Product Name**"
      ],
      "metadata": {
        "id": "mOQEADLdGOJQ"
      }
    },
    {
      "cell_type": "code",
      "source": [
        "df['product_name']"
      ],
      "metadata": {
        "colab": {
          "base_uri": "https://localhost:8080/"
        },
        "id": "Sbb6CjolMtZy",
        "outputId": "cb235e4c-a6ac-4376-d183-319a51fe158e"
      },
      "execution_count": 40,
      "outputs": [
        {
          "output_type": "execute_result",
          "data": {
            "text/plain": [
              "0      (FREE SHIPPING) SAMSUNG S20 PRO (8GB+512GB) MO...\n",
              "1      [CLEARANCE STOCK] VIVO Y50 8GB/512GB ANDROID S...\n",
              "2      [CLEARANCE STOCK] OPPO RENO 4 PRO 12GB RAM+512...\n",
              "3      [CLEARANCE STOCK] SAMSUNG GALAXY S21+ 5G 12GB ...\n",
              "4      [CLEARANCE STOCK] VIVO Y19 (8GB/512GB) IMPORT SET\n",
              "                             ...                        \n",
              "115    [CLEARANCE STOCK] HUAWEI P30 PRO 8GB RAM 512GB...\n",
              "116    [CLEARANCE STOCK] Redmi 6A Dual SIM Dual Stand...\n",
              "117    [CLEARANCE STOCK] ORIGINAL NOKIA 150 DUAL SIM ...\n",
              "118    [CLEARANCE STOCK] Oppo A53 4G 2gb+16gb Origina...\n",
              "119    [CLEARANCE STOCK] Oppo A37 4G 2gb+16gb Origina...\n",
              "Name: product_name, Length: 120, dtype: object"
            ]
          },
          "metadata": {},
          "execution_count": 40
        }
      ]
    },
    {
      "cell_type": "code",
      "source": [
        "import re\n",
        "\n",
        "# remove irrelevant value in product name\n",
        "df['product_name'] = df['product_name'].str.replace(r\"FREE SHIPPING\", '', regex=True)\n",
        "df['product_name'] = df['product_name'].str.replace(r\"CLEARANCE STOCK\", '', regex=True)\n",
        "df['product_name'] = df['product_name'].str.split(n=1).str[1]\n",
        "df['product_name'] = df['product_name'].str.lower()\n",
        "df['product_name'].head()"
      ],
      "metadata": {
        "colab": {
          "base_uri": "https://localhost:8080/"
        },
        "id": "Vf_oSbb5MtWS",
        "outputId": "1e04904b-d46e-43d7-deb7-0e2aa7b554e2"
      },
      "execution_count": 41,
      "outputs": [
        {
          "output_type": "execute_result",
          "data": {
            "text/plain": [
              "0             samsung s20 pro (8gb+512gb) mobile phone\n",
              "1               vivo y50 8gb/512gb android smart phone\n",
              "2    oppo reno 4 pro 12gb ram+512gb rom 6.5 inch sc...\n",
              "3    samsung galaxy s21+ 5g 12gb ram 512gb rom 6.5 ...\n",
              "4                      vivo y19 (8gb/512gb) import set\n",
              "Name: product_name, dtype: object"
            ]
          },
          "metadata": {},
          "execution_count": 41
        }
      ]
    },
    {
      "cell_type": "markdown",
      "source": [
        "### **2. Handle None Value and Change Data Type for Number of Rating and Product Rating**"
      ],
      "metadata": {
        "id": "4nY2kD41KOF4"
      }
    },
    {
      "cell_type": "code",
      "source": [
        "df['product_rating'].fillna(0, inplace = True) \n",
        "df['num_rating'].fillna(0, inplace = True) \n",
        "df['product_rating'] = df['product_rating'].astype(float)\n",
        "df['num_rating'] = df['num_rating'].astype(int)\n",
        "\n",
        "df.info()"
      ],
      "metadata": {
        "id": "ETO0dBqAF7Y9",
        "colab": {
          "base_uri": "https://localhost:8080/"
        },
        "outputId": "aac02480-b1bb-4dbd-cdf1-78249701b737"
      },
      "execution_count": 42,
      "outputs": [
        {
          "output_type": "stream",
          "name": "stdout",
          "text": [
            "<class 'pandas.core.frame.DataFrame'>\n",
            "RangeIndex: 120 entries, 0 to 119\n",
            "Data columns (total 7 columns):\n",
            " #   Column          Non-Null Count  Dtype  \n",
            "---  ------          --------------  -----  \n",
            " 0   product_name    120 non-null    object \n",
            " 1   product_price   120 non-null    object \n",
            " 2   brand           120 non-null    object \n",
            " 3   num_sold        120 non-null    object \n",
            " 4   num_fav         120 non-null    object \n",
            " 5   product_rating  120 non-null    float64\n",
            " 6   num_rating      120 non-null    int64  \n",
            "dtypes: float64(1), int64(1), object(5)\n",
            "memory usage: 6.7+ KB\n"
          ]
        }
      ]
    },
    {
      "cell_type": "markdown",
      "source": [
        "### **3. Remove \"Favorite\" word and Change Data Type for Number of Favorite**"
      ],
      "metadata": {
        "id": "px6NH_dhMQGI"
      }
    },
    {
      "cell_type": "code",
      "source": [
        "df['num_fav'].head()"
      ],
      "metadata": {
        "colab": {
          "base_uri": "https://localhost:8080/"
        },
        "id": "coFYIFwnMt_R",
        "outputId": "146e10dc-47f6-42a5-edbf-f6e747666da6"
      },
      "execution_count": 43,
      "outputs": [
        {
          "output_type": "execute_result",
          "data": {
            "text/plain": [
              "0    Favorite (328)\n",
              "1      Favorite (9)\n",
              "2      Favorite (7)\n",
              "3      Favorite (4)\n",
              "4     Favorite (10)\n",
              "Name: num_fav, dtype: object"
            ]
          },
          "metadata": {},
          "execution_count": 43
        }
      ]
    },
    {
      "cell_type": "code",
      "source": [
        "df['num_fav'] = df['num_fav'].str.replace(r'[Favorite\\(\\)]', '', regex=True)\n",
        "df['num_fav'].fillna('0', inplace = True) \n",
        "df['num_fav'] = df['num_fav'].astype(int)\n",
        "df['num_fav']"
      ],
      "metadata": {
        "colab": {
          "base_uri": "https://localhost:8080/"
        },
        "id": "_ekSPwQMMt71",
        "outputId": "a209a1b2-f59e-4827-ab43-9ac902914d52"
      },
      "execution_count": 44,
      "outputs": [
        {
          "output_type": "execute_result",
          "data": {
            "text/plain": [
              "0      328\n",
              "1        9\n",
              "2        7\n",
              "3        4\n",
              "4       10\n",
              "      ... \n",
              "115      0\n",
              "116      0\n",
              "117      0\n",
              "118      0\n",
              "119      0\n",
              "Name: num_fav, Length: 120, dtype: int64"
            ]
          },
          "metadata": {},
          "execution_count": 44
        }
      ]
    },
    {
      "cell_type": "markdown",
      "source": [
        "### **4. Change Brand Name to Lowercase**"
      ],
      "metadata": {
        "id": "vQ9a9TIKMQQ9"
      }
    },
    {
      "cell_type": "code",
      "source": [
        "df['brand'].head()"
      ],
      "metadata": {
        "colab": {
          "base_uri": "https://localhost:8080/"
        },
        "id": "zgba-KMqMvKi",
        "outputId": "32c72a1a-51c7-44f2-8f04-b768a26601d7"
      },
      "execution_count": 45,
      "outputs": [
        {
          "output_type": "execute_result",
          "data": {
            "text/plain": [
              "0         Samsung\n",
              "1            Vivo\n",
              "2            OPPO\n",
              "3    Other Brands\n",
              "4            Vivo\n",
              "Name: brand, dtype: object"
            ]
          },
          "metadata": {},
          "execution_count": 45
        }
      ]
    },
    {
      "cell_type": "code",
      "source": [
        "df['brand'] = df['brand'].str.lower()\n",
        "df['brand'].head()"
      ],
      "metadata": {
        "colab": {
          "base_uri": "https://localhost:8080/"
        },
        "id": "SIKxelkSROJ3",
        "outputId": "041d6e93-7be5-4621-98d9-c40c97ff8993"
      },
      "execution_count": 46,
      "outputs": [
        {
          "output_type": "execute_result",
          "data": {
            "text/plain": [
              "0         samsung\n",
              "1            vivo\n",
              "2            oppo\n",
              "3    other brands\n",
              "4            vivo\n",
              "Name: brand, dtype: object"
            ]
          },
          "metadata": {},
          "execution_count": 46
        }
      ]
    },
    {
      "cell_type": "markdown",
      "source": [
        "### **5. Remove 'RM' and Change Data Type for Price**"
      ],
      "metadata": {
        "id": "Sqz3deIZMQWN"
      }
    },
    {
      "cell_type": "code",
      "source": [
        "df['product_price'].head()"
      ],
      "metadata": {
        "id": "DJPdcdQwF7W1",
        "colab": {
          "base_uri": "https://localhost:8080/"
        },
        "outputId": "188745a6-0e27-4b64-c05c-90eb0989f8aa"
      },
      "execution_count": 47,
      "outputs": [
        {
          "output_type": "execute_result",
          "data": {
            "text/plain": [
              "0    RM186.12 - RM205.92\n",
              "1    RM186.12 - RM205.92\n",
              "2    RM238.00 - RM253.00\n",
              "3               RM223.00\n",
              "4    RM188.00 - RM208.00\n",
              "Name: product_price, dtype: object"
            ]
          },
          "metadata": {},
          "execution_count": 47
        }
      ]
    },
    {
      "cell_type": "code",
      "source": [
        "import re\n",
        "\n",
        "# remove 'RM' from product price\n",
        "df['product_price'] = df['product_price'].str.replace(r'RM', '', regex=True)\n",
        "\n",
        "# this is a fnction to convert price range to single price\n",
        "def single_price(row):\n",
        "  if bool(re.search(r'\\-', row)):\n",
        "    price1, price2 = map(float, row.split('-'))\n",
        "    return '{:.2f}'.format((price1+price2)/2)\n",
        "  else:\n",
        "    return row\n",
        "\n",
        "df['product_price'] = df['product_price'].apply(single_price).astype(float)"
      ],
      "metadata": {
        "id": "X5P8nqDAF7T-"
      },
      "execution_count": 48,
      "outputs": []
    },
    {
      "cell_type": "code",
      "source": [
        "df['product_price'].head()"
      ],
      "metadata": {
        "id": "Fc-jH9OkF7Re",
        "colab": {
          "base_uri": "https://localhost:8080/"
        },
        "outputId": "f7d2394b-bd96-48ab-9dfa-a98ee2353967"
      },
      "execution_count": 49,
      "outputs": [
        {
          "output_type": "execute_result",
          "data": {
            "text/plain": [
              "0    196.02\n",
              "1    196.02\n",
              "2    245.50\n",
              "3    223.00\n",
              "4    198.00\n",
              "Name: product_price, dtype: float64"
            ]
          },
          "metadata": {},
          "execution_count": 49
        }
      ]
    },
    {
      "cell_type": "markdown",
      "source": [
        "### **6. Change Data Type for Number of Sold**"
      ],
      "metadata": {
        "id": "j3rWmbGASEMR"
      }
    },
    {
      "cell_type": "code",
      "source": [
        "df['num_sold'] = df['num_sold'].astype(int)"
      ],
      "metadata": {
        "id": "HDkHqYTNR7_F"
      },
      "execution_count": 50,
      "outputs": []
    },
    {
      "cell_type": "code",
      "source": [
        "df['num_sold'].head()"
      ],
      "metadata": {
        "colab": {
          "base_uri": "https://localhost:8080/"
        },
        "id": "SIvYLvY9AZqv",
        "outputId": "0e5f2789-4967-4de8-bf68-4796c780c905"
      },
      "execution_count": 67,
      "outputs": [
        {
          "output_type": "execute_result",
          "data": {
            "text/plain": [
              "0    466\n",
              "1      7\n",
              "2      6\n",
              "3      3\n",
              "4      3\n",
              "Name: num_sold, dtype: int64"
            ]
          },
          "metadata": {},
          "execution_count": 67
        }
      ]
    },
    {
      "cell_type": "code",
      "source": [
        "df.info()"
      ],
      "metadata": {
        "id": "KLUhG-NxF7Pa",
        "colab": {
          "base_uri": "https://localhost:8080/"
        },
        "outputId": "21c6cf73-ea07-41b8-b1b7-f6c5c0b6af70"
      },
      "execution_count": 51,
      "outputs": [
        {
          "output_type": "stream",
          "name": "stdout",
          "text": [
            "<class 'pandas.core.frame.DataFrame'>\n",
            "RangeIndex: 120 entries, 0 to 119\n",
            "Data columns (total 7 columns):\n",
            " #   Column          Non-Null Count  Dtype  \n",
            "---  ------          --------------  -----  \n",
            " 0   product_name    120 non-null    object \n",
            " 1   product_price   120 non-null    float64\n",
            " 2   brand           120 non-null    object \n",
            " 3   num_sold        120 non-null    int64  \n",
            " 4   num_fav         120 non-null    int64  \n",
            " 5   product_rating  120 non-null    float64\n",
            " 6   num_rating      120 non-null    int64  \n",
            "dtypes: float64(2), int64(3), object(2)\n",
            "memory usage: 6.7+ KB\n"
          ]
        }
      ]
    },
    {
      "cell_type": "code",
      "source": [
        "df.head()"
      ],
      "metadata": {
        "id": "4Qs_HuNqF7NA",
        "colab": {
          "base_uri": "https://localhost:8080/",
          "height": 206
        },
        "outputId": "10a52850-719f-46c3-f149-1579422e6f41"
      },
      "execution_count": 52,
      "outputs": [
        {
          "output_type": "execute_result",
          "data": {
            "text/html": [
              "\n",
              "  <div id=\"df-b91eb0b3-a144-495b-ba18-94e3c6901197\">\n",
              "    <div class=\"colab-df-container\">\n",
              "      <div>\n",
              "<style scoped>\n",
              "    .dataframe tbody tr th:only-of-type {\n",
              "        vertical-align: middle;\n",
              "    }\n",
              "\n",
              "    .dataframe tbody tr th {\n",
              "        vertical-align: top;\n",
              "    }\n",
              "\n",
              "    .dataframe thead th {\n",
              "        text-align: right;\n",
              "    }\n",
              "</style>\n",
              "<table border=\"1\" class=\"dataframe\">\n",
              "  <thead>\n",
              "    <tr style=\"text-align: right;\">\n",
              "      <th></th>\n",
              "      <th>product_name</th>\n",
              "      <th>product_price</th>\n",
              "      <th>brand</th>\n",
              "      <th>num_sold</th>\n",
              "      <th>num_fav</th>\n",
              "      <th>product_rating</th>\n",
              "      <th>num_rating</th>\n",
              "    </tr>\n",
              "  </thead>\n",
              "  <tbody>\n",
              "    <tr>\n",
              "      <th>0</th>\n",
              "      <td>samsung s20 pro (8gb+512gb) mobile phone</td>\n",
              "      <td>196.02</td>\n",
              "      <td>samsung</td>\n",
              "      <td>466</td>\n",
              "      <td>328</td>\n",
              "      <td>3.9</td>\n",
              "      <td>23</td>\n",
              "    </tr>\n",
              "    <tr>\n",
              "      <th>1</th>\n",
              "      <td>vivo y50 8gb/512gb android smart phone</td>\n",
              "      <td>196.02</td>\n",
              "      <td>vivo</td>\n",
              "      <td>7</td>\n",
              "      <td>9</td>\n",
              "      <td>5.0</td>\n",
              "      <td>2</td>\n",
              "    </tr>\n",
              "    <tr>\n",
              "      <th>2</th>\n",
              "      <td>oppo reno 4 pro 12gb ram+512gb rom 6.5 inch sc...</td>\n",
              "      <td>245.50</td>\n",
              "      <td>oppo</td>\n",
              "      <td>6</td>\n",
              "      <td>7</td>\n",
              "      <td>3.5</td>\n",
              "      <td>4</td>\n",
              "    </tr>\n",
              "    <tr>\n",
              "      <th>3</th>\n",
              "      <td>samsung galaxy s21+ 5g 12gb ram 512gb rom 6.5 ...</td>\n",
              "      <td>223.00</td>\n",
              "      <td>other brands</td>\n",
              "      <td>3</td>\n",
              "      <td>4</td>\n",
              "      <td>5.0</td>\n",
              "      <td>1</td>\n",
              "    </tr>\n",
              "    <tr>\n",
              "      <th>4</th>\n",
              "      <td>vivo y19 (8gb/512gb) import set</td>\n",
              "      <td>198.00</td>\n",
              "      <td>vivo</td>\n",
              "      <td>3</td>\n",
              "      <td>10</td>\n",
              "      <td>3.0</td>\n",
              "      <td>1</td>\n",
              "    </tr>\n",
              "  </tbody>\n",
              "</table>\n",
              "</div>\n",
              "      <button class=\"colab-df-convert\" onclick=\"convertToInteractive('df-b91eb0b3-a144-495b-ba18-94e3c6901197')\"\n",
              "              title=\"Convert this dataframe to an interactive table.\"\n",
              "              style=\"display:none;\">\n",
              "        \n",
              "  <svg xmlns=\"http://www.w3.org/2000/svg\" height=\"24px\"viewBox=\"0 0 24 24\"\n",
              "       width=\"24px\">\n",
              "    <path d=\"M0 0h24v24H0V0z\" fill=\"none\"/>\n",
              "    <path d=\"M18.56 5.44l.94 2.06.94-2.06 2.06-.94-2.06-.94-.94-2.06-.94 2.06-2.06.94zm-11 1L8.5 8.5l.94-2.06 2.06-.94-2.06-.94L8.5 2.5l-.94 2.06-2.06.94zm10 10l.94 2.06.94-2.06 2.06-.94-2.06-.94-.94-2.06-.94 2.06-2.06.94z\"/><path d=\"M17.41 7.96l-1.37-1.37c-.4-.4-.92-.59-1.43-.59-.52 0-1.04.2-1.43.59L10.3 9.45l-7.72 7.72c-.78.78-.78 2.05 0 2.83L4 21.41c.39.39.9.59 1.41.59.51 0 1.02-.2 1.41-.59l7.78-7.78 2.81-2.81c.8-.78.8-2.07 0-2.86zM5.41 20L4 18.59l7.72-7.72 1.47 1.35L5.41 20z\"/>\n",
              "  </svg>\n",
              "      </button>\n",
              "      \n",
              "  <style>\n",
              "    .colab-df-container {\n",
              "      display:flex;\n",
              "      flex-wrap:wrap;\n",
              "      gap: 12px;\n",
              "    }\n",
              "\n",
              "    .colab-df-convert {\n",
              "      background-color: #E8F0FE;\n",
              "      border: none;\n",
              "      border-radius: 50%;\n",
              "      cursor: pointer;\n",
              "      display: none;\n",
              "      fill: #1967D2;\n",
              "      height: 32px;\n",
              "      padding: 0 0 0 0;\n",
              "      width: 32px;\n",
              "    }\n",
              "\n",
              "    .colab-df-convert:hover {\n",
              "      background-color: #E2EBFA;\n",
              "      box-shadow: 0px 1px 2px rgba(60, 64, 67, 0.3), 0px 1px 3px 1px rgba(60, 64, 67, 0.15);\n",
              "      fill: #174EA6;\n",
              "    }\n",
              "\n",
              "    [theme=dark] .colab-df-convert {\n",
              "      background-color: #3B4455;\n",
              "      fill: #D2E3FC;\n",
              "    }\n",
              "\n",
              "    [theme=dark] .colab-df-convert:hover {\n",
              "      background-color: #434B5C;\n",
              "      box-shadow: 0px 1px 3px 1px rgba(0, 0, 0, 0.15);\n",
              "      filter: drop-shadow(0px 1px 2px rgba(0, 0, 0, 0.3));\n",
              "      fill: #FFFFFF;\n",
              "    }\n",
              "  </style>\n",
              "\n",
              "      <script>\n",
              "        const buttonEl =\n",
              "          document.querySelector('#df-b91eb0b3-a144-495b-ba18-94e3c6901197 button.colab-df-convert');\n",
              "        buttonEl.style.display =\n",
              "          google.colab.kernel.accessAllowed ? 'block' : 'none';\n",
              "\n",
              "        async function convertToInteractive(key) {\n",
              "          const element = document.querySelector('#df-b91eb0b3-a144-495b-ba18-94e3c6901197');\n",
              "          const dataTable =\n",
              "            await google.colab.kernel.invokeFunction('convertToInteractive',\n",
              "                                                     [key], {});\n",
              "          if (!dataTable) return;\n",
              "\n",
              "          const docLinkHtml = 'Like what you see? Visit the ' +\n",
              "            '<a target=\"_blank\" href=https://colab.research.google.com/notebooks/data_table.ipynb>data table notebook</a>'\n",
              "            + ' to learn more about interactive tables.';\n",
              "          element.innerHTML = '';\n",
              "          dataTable['output_type'] = 'display_data';\n",
              "          await google.colab.output.renderOutput(dataTable, element);\n",
              "          const docLink = document.createElement('div');\n",
              "          docLink.innerHTML = docLinkHtml;\n",
              "          element.appendChild(docLink);\n",
              "        }\n",
              "      </script>\n",
              "    </div>\n",
              "  </div>\n",
              "  "
            ],
            "text/plain": [
              "                                        product_name  ...  num_rating\n",
              "0           samsung s20 pro (8gb+512gb) mobile phone  ...          23\n",
              "1             vivo y50 8gb/512gb android smart phone  ...           2\n",
              "2  oppo reno 4 pro 12gb ram+512gb rom 6.5 inch sc...  ...           4\n",
              "3  samsung galaxy s21+ 5g 12gb ram 512gb rom 6.5 ...  ...           1\n",
              "4                    vivo y19 (8gb/512gb) import set  ...           1\n",
              "\n",
              "[5 rows x 7 columns]"
            ]
          },
          "metadata": {},
          "execution_count": 52
        }
      ]
    },
    {
      "cell_type": "markdown",
      "source": [
        "# **Visualization**"
      ],
      "metadata": {
        "id": "WNmAbtn1Sgwz"
      }
    },
    {
      "cell_type": "code",
      "source": [
        "# import necessary library for data visualization\n",
        "\n",
        "%matplotlib inline\n",
        "import matplotlib.pyplot as plt"
      ],
      "metadata": {
        "id": "dU-r5L1xSzmB"
      },
      "execution_count": 53,
      "outputs": []
    },
    {
      "cell_type": "markdown",
      "source": [
        "### **1. Bar Chart for No. of Mobile Phone by Brand**"
      ],
      "metadata": {
        "id": "ZM-1FTQ_SgtP"
      }
    },
    {
      "cell_type": "code",
      "source": [
        "df.groupby('brand').size().plot.bar()"
      ],
      "metadata": {
        "colab": {
          "base_uri": "https://localhost:8080/",
          "height": 350
        },
        "id": "2S9IEQzGV0GJ",
        "outputId": "f5bb22a0-4298-4e5b-c055-773ca5a7f0c7"
      },
      "execution_count": 54,
      "outputs": [
        {
          "output_type": "execute_result",
          "data": {
            "text/plain": [
              "<matplotlib.axes._subplots.AxesSubplot at 0x7fb3e5f62290>"
            ]
          },
          "metadata": {},
          "execution_count": 54
        },
        {
          "output_type": "display_data",
          "data": {
            "image/png": "[encoded data removed]",
            "text/plain": [
              "<Figure size 432x288 with 1 Axes>"
            ]
          },
          "metadata": {
            "needs_background": "light"
          }
        }
      ]
    },
    {
      "cell_type": "markdown",
      "source": [
        "### **2. Pie Chart for No. of Sold by Brand**"
      ],
      "metadata": {
        "id": "gCTw0eHrSgqt"
      }
    },
    {
      "cell_type": "code",
      "source": [
        "df.groupby(['brand']).sum().plot(kind='pie', y='num_sold',autopct='%1.0f%%',radius=2)"
      ],
      "metadata": {
        "colab": {
          "base_uri": "https://localhost:8080/",
          "height": 429
        },
        "id": "akfcPF-CS0as",
        "outputId": "38535c78-8f37-4382-94d6-8c2d49fa4a3e"
      },
      "execution_count": 56,
      "outputs": [
        {
          "output_type": "execute_result",
          "data": {
            "text/plain": [
              "<matplotlib.axes._subplots.AxesSubplot at 0x7fb3e63c0fd0>"
            ]
          },
          "metadata": {},
          "execution_count": 56
        },
        {
          "output_type": "display_data",
          "data": {
            "image/png": "[encoded data removed]",
            "text/plain": [
              "<Figure size 432x288 with 1 Axes>"
            ]
          },
          "metadata": {}
        }
      ]
    },
    {
      "cell_type": "markdown",
      "source": [
        "### **3. Box Plot for Product Price (Before & After Cleaning)**"
      ],
      "metadata": {
        "id": "QDQCi7m9SgmQ"
      }
    },
    {
      "cell_type": "code",
      "source": [
        "# box plot for product price before remove outliers\n",
        "\n",
        "import seaborn as sns\n",
        "price = df['product_price']\n",
        "\n",
        "plt.figure(figsize=(10,5))\n",
        "sns.boxplot(x=price) #boxplot using seaborn"
      ],
      "metadata": {
        "colab": {
          "base_uri": "https://localhost:8080/",
          "height": 352
        },
        "id": "ibQe7xgWS1TR",
        "outputId": "a0da7e1d-7bd5-4105-aaab-c5d6fe86f6bb"
      },
      "execution_count": 57,
      "outputs": [
        {
          "output_type": "execute_result",
          "data": {
            "text/plain": [
              "<matplotlib.axes._subplots.AxesSubplot at 0x7fb3e676cd90>"
            ]
          },
          "metadata": {},
          "execution_count": 57
        },
        {
          "output_type": "display_data",
          "data": {
            "image/png": "[encoded data removed]",
            "text/plain": [
              "<Figure size 720x360 with 1 Axes>"
            ]
          },
          "metadata": {
            "needs_background": "light"
          }
        }
      ]
    },
    {
      "cell_type": "code",
      "source": [
        "#function to calculate boxplot\n",
        "def find_boundaries(df, col):\n",
        "  Q1=df[col].quantile(0.25)\n",
        "  Q3=df[col].quantile(0.75)\n",
        "  IQR=Q3-Q1\n",
        "  lower_boundary=Q1- 1.5*IQR\n",
        "  upper_boundary=Q3+ 1.5*IQR\n",
        "\n",
        "  return lower_boundary, upper_boundary"
      ],
      "metadata": {
        "id": "whC-6aBsS1NL"
      },
      "execution_count": 58,
      "outputs": []
    },
    {
      "cell_type": "code",
      "source": [
        "import numpy as np\n",
        "\n",
        "lower_bound, upper_bound = find_boundaries(df,'product_price')\n",
        "print('lower boundary: ',lower_bound)\n",
        "print('upper boundary: ', upper_bound)\n",
        "\n",
        "df['product_price']=np.where(df['product_price']>upper_bound, upper_bound,\n",
        "                          np.where(df['product_price']<lower_bound, lower_bound, df['product_price']))"
      ],
      "metadata": {
        "colab": {
          "base_uri": "https://localhost:8080/"
        },
        "id": "8gqqrO2qTIu6",
        "outputId": "d3d7c18e-c6b7-4e59-e9d8-fbd17a16d58f"
      },
      "execution_count": 59,
      "outputs": [
        {
          "output_type": "stream",
          "name": "stdout",
          "text": [
            "lower boundary:  126.75\n",
            "upper boundary:  316.75\n"
          ]
        }
      ]
    },
    {
      "cell_type": "code",
      "source": [
        "# box plot for product price after remove outliers\n",
        "plt.figure(figsize=(10,5))\n",
        "sns.boxplot(x=price)"
      ],
      "metadata": {
        "colab": {
          "base_uri": "https://localhost:8080/",
          "height": 352
        },
        "id": "x2SjViWUTjmu",
        "outputId": "b4fc6c14-4f6a-4f86-e598-52c59956f359"
      },
      "execution_count": 60,
      "outputs": [
        {
          "output_type": "execute_result",
          "data": {
            "text/plain": [
              "<matplotlib.axes._subplots.AxesSubplot at 0x7fb3e6b54210>"
            ]
          },
          "metadata": {},
          "execution_count": 60
        },
        {
          "output_type": "display_data",
          "data": {
            "image/png": "[encoded data removed]",
            "text/plain": [
              "<Figure size 720x360 with 1 Axes>"
            ]
          },
          "metadata": {
            "needs_background": "light"
          }
        }
      ]
    },
    {
      "cell_type": "markdown",
      "source": [
        "### **4. Correlation Between Number of Rating and Product Rating**"
      ],
      "metadata": {
        "id": "T85JyQGJSgit"
      }
    },
    {
      "cell_type": "code",
      "source": [
        "sns.lmplot(x='product_rating',y='num_rating',data=df,fit_reg=True, height=8)"
      ],
      "metadata": {
        "colab": {
          "base_uri": "https://localhost:8080/",
          "height": 602
        },
        "id": "jbiBxNI5S2Xw",
        "outputId": "9d552690-559c-4139-a7d2-8aedbb82e1e6"
      },
      "execution_count": 65,
      "outputs": [
        {
          "output_type": "execute_result",
          "data": {
            "text/plain": [
              "<seaborn.axisgrid.FacetGrid at 0x7fb3e5ec3910>"
            ]
          },
          "metadata": {},
          "execution_count": 65
        },
        {
          "output_type": "display_data",
          "data": {
            "image/png": "[encoded data removed]",
            "text/plain": [
              "<Figure size 576x576 with 1 Axes>"
            ]
          },
          "metadata": {
            "needs_background": "light"
          }
        }
      ]
    },
    {
      "cell_type": "markdown",
      "source": [
        "### **5. Correlation Between Favourite Number and Sold Number**"
      ],
      "metadata": {
        "id": "AW_S9kr4SyG9"
      }
    },
    {
      "cell_type": "code",
      "source": [
        "sns.lmplot(x='num_fav',y='num_sold',data=df,fit_reg=True, height=8)"
      ],
      "metadata": {
        "colab": {
          "base_uri": "https://localhost:8080/",
          "height": 602
        },
        "id": "iMfs0HufS3Dm",
        "outputId": "b173381d-86c9-4311-abbe-0bf79c1b7329"
      },
      "execution_count": 62,
      "outputs": [
        {
          "output_type": "execute_result",
          "data": {
            "text/plain": [
              "<seaborn.axisgrid.FacetGrid at 0x7fb3e65ea710>"
            ]
          },
          "metadata": {},
          "execution_count": 62
        },
        {
          "output_type": "display_data",
          "data": {
            "image/png": "[encoded data removed]",
            "text/plain": [
              "<Figure size 576x576 with 1 Axes>"
            ]
          },
          "metadata": {
            "needs_background": "light"
          }
        }
      ]
    },
    {
      "cell_type": "markdown",
      "source": [
        "# **Phase 3 - Load**"
      ],
      "metadata": {
        "id": "7neYH0jcoYUE"
      }
    },
    {
      "cell_type": "code",
      "source": [
        "# store the data into csv file\n",
        "df.to_csv(r'G19_mobile_phone.csv')"
      ],
      "metadata": {
        "id": "ftdZFLpfT4zL"
      },
      "execution_count": 66,
      "outputs": []
    }
  ]
}